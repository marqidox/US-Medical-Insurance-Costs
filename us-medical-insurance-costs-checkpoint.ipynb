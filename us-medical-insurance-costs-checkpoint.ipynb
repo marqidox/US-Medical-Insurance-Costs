{
 "cells": [
  {
   "cell_type": "markdown",
   "metadata": {},
   "source": [
    "# U.S. Medical Insurance Costs"
   ]
  },
  {
   "source": [
    "Hello! In this project, we will be analyzing the data provided to find out how specific factors such as region affect how much you are charged."
   ],
   "cell_type": "markdown",
   "metadata": {}
  },
  {
   "source": [
    "Here I will import the csv file into a pandas DataFrame for analyzing.\n",
    "I will use the read_csv method from the pandas module to load it in and see the formatting.\n",
    "I will also import the statistics module to use for calculations."
   ],
   "cell_type": "markdown",
   "metadata": {}
  },
  {
   "cell_type": "code",
   "execution_count": 176,
   "metadata": {},
   "outputs": [
    {
     "output_type": "stream",
     "name": "stdout",
     "text": [
      "      age     sex     bmi  children smoker     region      charges\n0      19  female  27.900         0    yes  southwest  16884.92400\n1      18    male  33.770         1     no  southeast   1725.55230\n2      28    male  33.000         3     no  southeast   4449.46200\n3      33    male  22.705         0     no  northwest  21984.47061\n4      32    male  28.880         0     no  northwest   3866.85520\n...   ...     ...     ...       ...    ...        ...          ...\n1333   50    male  30.970         3     no  northwest  10600.54830\n1334   18  female  31.920         0     no  northeast   2205.98080\n1335   18  female  36.850         0     no  southeast   1629.83350\n1336   21  female  25.800         0     no  southwest   2007.94500\n1337   61  female  29.070         0    yes  northwest  29141.36030\n\n[1338 rows x 7 columns]\n"
     ]
    }
   ],
   "source": [
    "import pandas as pd\n",
    "import statistics as stat\n",
    "insurance_dataframe=pd.read_csv('insurance.csv')\n",
    "print(insurance_dataframe)"
   ]
  },
  {
   "source": [
    "We can see that each row documents a person's age, sex, bmi, number of children, smoker, region, and charges.\n",
    "\n",
    "Here I will save each column to a variable for analysis. "
   ],
   "cell_type": "markdown",
   "metadata": {}
  },
  {
   "cell_type": "code",
   "execution_count": 22,
   "metadata": {},
   "outputs": [],
   "source": [
    "ages=insurance_dataframe['age']\n",
    "sexes=insurance_dataframe['sex']\n",
    "bmis=insurance_dataframe['bmi']\n",
    "children=insurance_dataframe['children']\n",
    "smokers=insurance_dataframe['smoker']\n",
    "regions=insurance_dataframe['region']\n",
    "charges=insurance_dataframe['charges']"
   ]
  },
  {
   "source": [
    "First I would like to analyze the average age of this dataset to find any possible bias on this front."
   ],
   "cell_type": "markdown",
   "metadata": {}
  },
  {
   "cell_type": "code",
   "execution_count": 168,
   "metadata": {},
   "outputs": [
    {
     "output_type": "stream",
     "name": "stdout",
     "text": [
      "The average age for this dataset is 39.\n"
     ]
    }
   ],
   "source": [
    "def calculate_avg_age():\n",
    "    return f'The average age for this dataset is {round(ages.mean())}.'\n",
    "print(calculate_avg_age())"
   ]
  },
  {
   "source": [
    "The average age is 39, meaning this dataset is biased towards middle-aged people (people aged 35-49). \n",
    "\n",
    "\n",
    "Next, I would like to see how age influences the charge amount."
   ],
   "cell_type": "markdown",
   "metadata": {}
  },
  {
   "cell_type": "code",
   "execution_count": 182,
   "metadata": {},
   "outputs": [
    {
     "output_type": "stream",
     "name": "stdout",
     "text": [
      "On average, people aged 18-35 pay $312391.23 in charges.\nOn average, people aged 35-49 pay $376429.42 in charges.\nOn average, people aged 50+ pay $459875.39 in charges.\n"
     ]
    }
   ],
   "source": [
    "def compare_charges():\n",
    "    ages_charges=insurance_dataframe.groupby('age').charges.sum().reset_index() \n",
    "    older_people=ages_charges[ages_charges.age>50]\n",
    "    middle_aged_people=ages_charges[(ages_charges.age>35) & (ages_charges.age<50)]\n",
    "    younger_people=ages_charges[ages_charges.age<35]\n",
    "    \n",
    "    old_avg=stat.mean(list(older_people.charges))\n",
    "\n",
    "    middle_avg=stat.mean(list(middle_aged_people.charges))\n",
    "\n",
    "    young_avg=stat.mean(list(younger_people.charges))\n",
    "\n",
    "    print(f'On average, people aged 18-35 pay ${round(young_avg,2)} in charges.\\nOn average, people aged 35-49 pay ${round(middle_avg,2)} in charges.\\nOn average, people aged 50+ pay ${round(old_avg,2)} in charges.')\n",
    "\n",
    "compare_charges()"
   ]
  },
  {
   "source": [
    "Looking at this data, we can make the inference that the older you are, the more in charges you pay.\n",
    "\n",
    "Next, we would like to find out how the region affects the charge amount. We will do this by creating a function that gives us the average charge amount per region."
   ],
   "cell_type": "markdown",
   "metadata": {}
  },
  {
   "cell_type": "code",
   "execution_count": 214,
   "metadata": {},
   "outputs": [
    {
     "output_type": "stream",
     "name": "stdout",
     "text": [
      "This is the total amount in charges per region:\n       region    charges\n0  northeast  4343669.0\n1  northwest  4035712.0\n2  southeast  5363690.0\n3  southwest  4012755.0\nThis is the average amount in charges per region:\n       region   charges\n0  northeast  13406.38\n1  northwest  12417.58\n2  southeast  14735.41\n3  southwest  12346.94\nThis is the average amount in charges per region, organized by sex: \n sex     region    female      male   difference\n0    northeast  12953.20  13854.01   900.81 (M)\n1    northwest  12479.87  12354.12   125.75 (F)\n2    southeast  13499.67  15879.62  2379.95 (M)\n3    southwest  11274.41  13412.88  2138.47 (M)\n"
     ]
    }
   ],
   "source": [
    "def region_affect_charge():\n",
    "    charge_sum_per_region=insurance_dataframe.groupby('region').charges.sum().reset_index()\n",
    "    charge_sum_per_region.charges=charge_sum_per_region.charges.round()\n",
    "    print('This is the total amount in charges per region:\\n',charge_sum_per_region)\n",
    "    charge_avg_per_region=insurance_dataframe.groupby('region').charges.mean().reset_index()\n",
    "    charge_avg_per_region.charges=charge_avg_per_region.charges.round(2)\n",
    "    print('This is the average amount in charges per region:\\n',charge_avg_per_region)\n",
    "\n",
    "    charge_sex_per_region=insurance_dataframe.groupby(['region','sex']).charges.mean().reset_index().pivot(\n",
    "        columns='sex',\n",
    "        index='region',\n",
    "        values='charges'\n",
    "    ).reset_index()\n",
    "    charge_sex_per_region.female=charge_sex_per_region.female.round(2)\n",
    "    charge_sex_per_region.male=charge_sex_per_region.male.round(2)\n",
    "    def calculate_diff(x):\n",
    "        if x['female']>x['male']:\n",
    "            diff=round(x['female']-x['male'],2)\n",
    "            return f'{diff} (F)'\n",
    "        else:\n",
    "            diff=round(x['male']-x['female'],2)\n",
    "            return f'{diff} (M)'\n",
    "    charge_sex_per_region['difference']=charge_sex_per_region.apply(lambda x:\n",
    "        calculate_diff(x),\n",
    "        axis=1\n",
    "    )\n",
    "\n",
    "    print('This is the average amount in charges per region, organized by sex: \\n',charge_sex_per_region)\n",
    "region_affect_charge()"
   ]
  },
  {
   "source": [
    "From our results, we can see that people located in the southeast region get charged more than the other regions. Specifically, males in the southeast region, who get charged about $2379.95 more than females.\n",
    "\n",
    "Alternatively, the southwest get charged less than the other regions. Specifically, females in the region, who get charged about $2138.47 less than males.\n",
    "\n",
    "The final test, is seeing if there is a correlation between being a smoker and higher charges."
   ],
   "cell_type": "markdown",
   "metadata": {}
  },
  {
   "cell_type": "code",
   "execution_count": 220,
   "metadata": {},
   "outputs": [
    {
     "output_type": "stream",
     "name": "stdout",
     "text": [
      "This is the average charge:\n   smoker       charges\n0     no   8434.268298\n1    yes  32050.231832\nThis is the average charge based on sex:\n sex smoker   female      male   difference\n0       no   8762.3   8087.20    675.1 (F)\n1      yes  30679.0  33042.01  2363.01 (M)\n"
     ]
    }
   ],
   "source": [
    "def smoker_affect_charges():\n",
    "    smoker_charges_avg=insurance_dataframe.groupby('smoker').charges.mean().reset_index()\n",
    "    print('This is the average charge:\\n',smoker_charges_avg)\n",
    "\n",
    "    smoker_charges_avg_sex=insurance_dataframe.groupby(['smoker','sex']).charges.mean().reset_index().pivot(\n",
    "        columns='sex',\n",
    "        index='smoker',\n",
    "        values='charges'\n",
    "    ).reset_index()\n",
    "\n",
    "    def calculate_diff(x):\n",
    "        if x['female']>x['male']:\n",
    "            diff=round(x['female']-x['male'],2)\n",
    "            return f'{diff} (F)'\n",
    "        else:\n",
    "            diff=round(x['male']-x['female'],2)\n",
    "            return f'{diff} (M)'\n",
    "    smoker_charges_avg_sex.female=smoker_charges_avg_sex.female.round(2)\n",
    "    smoker_charges_avg_sex.male=smoker_charges_avg_sex.male.round(2)\n",
    "    smoker_charges_avg_sex['difference']=smoker_charges_avg_sex.apply(lambda x:\n",
    "        calculate_diff(x),\n",
    "        axis=1\n",
    "    )\n",
    "\n",
    "    print('This is the average charge based on sex:\\n',smoker_charges_avg_sex)\n",
    "smoker_affect_charges()"
   ]
  },
  {
   "source": [
    "We can see here that you can expect higher charges if you are a smoker, as smokers pay about $23616 more. Specifically, male smokers, who pay about 2363.01 dollars more than female smokers. \n"
   ],
   "cell_type": "markdown",
   "metadata": {}
  },
  {
   "source": [
    "Summary:\n",
    "Based on the results above, we can make three conclusions:\n",
    "1. The older you are, the more you pay in charges.\n",
    "2. If you live in the southeast, you will typically get charged about 2379.95 dollars more than people living in other regions.\n",
    "3. If you are a smoker, you will typically get charged about $23616 more than the average non-smoker.\n",
    "\n",
    "Thank you for looking through this project! If you have any feedback concerning my results or queries please tell me!"
   ],
   "cell_type": "markdown",
   "metadata": {}
  }
 ],
 "metadata": {
  "kernelspec": {
   "display_name": "Python 3",
   "language": "python",
   "name": "python3"
  },
  "language_info": {
   "codemirror_mode": {
    "name": "ipython",
    "version": 3
   },
   "file_extension": ".py",
   "mimetype": "text/x-python",
   "name": "python",
   "nbconvert_exporter": "python",
   "pygments_lexer": "ipython3",
   "version": "3.8.6-final"
  }
 },
 "nbformat": 4,
 "nbformat_minor": 4
}