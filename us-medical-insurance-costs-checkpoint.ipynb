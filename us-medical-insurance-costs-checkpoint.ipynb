{
 "cells": [
  {
   "cell_type": "markdown",
   "metadata": {},
   "source": [
    "# U.S. Medical Insurance Costs"
   ]
  },
  {
   "source": [
    "Here I will import the csv file into a pandas DataFrame for analyzing.\n",
    "I will import the read_csv method from the pandas module to load it in."
   ],
   "cell_type": "markdown",
   "metadata": {}
  },
  {
   "cell_type": "code",
   "execution_count": 18,
   "metadata": {},
   "outputs": [],
   "source": [
    "import pandas as pd\n",
    "insurance_dataframe=pd.read_csv('insurance.csv')"
   ]
  },
  {
   "source": [
    "Here I will save each column to a variable for analysis. \n",
    "Inside the insurance_dataframe, there are 7 columns containing data relating to each person:\n",
    "age, sex, bmi, children, smoker, region, and charges.\n"
   ],
   "cell_type": "markdown",
   "metadata": {}
  },
  {
   "cell_type": "code",
   "execution_count": 22,
   "metadata": {},
   "outputs": [],
   "source": [
    "ages=insurance_dataframe['age']\n",
    "sexes=insurance_dataframe['sex']\n",
    "bmis=insurance_dataframe['bmi']\n",
    "children=insurance_dataframe['children']\n",
    "smokers=insurance_dataframe['smoker']\n",
    "regions=insurance_dataframe['region']\n",
    "charges=insurance_dataframe['charges']"
   ]
  },
  {
   "source": [
    "First I would like to analyze the average age. I will do this by creating a function that divides the length of ages by the sum of ages."
   ],
   "cell_type": "markdown",
   "metadata": {}
  },
  {
   "cell_type": "code",
   "execution_count": 26,
   "metadata": {},
   "outputs": [
    {
     "output_type": "stream",
     "name": "stdout",
     "text": [
      "The average age for this dataset is 39.\n"
     ]
    }
   ],
   "source": [
    "def calculate_avg_age():\n",
    "    len_ages=len(ages)\n",
    "    total_num=0\n",
    "    for age in ages:\n",
    "        total_num+=age\n",
    "    return f'The average age for this dataset is {round(total_num/len_ages)}.'\n",
    "print(calculate_avg_age())"
   ]
  },
  {
   "source": [
    "The average age is 39, meaning this dataset is biased towards middle-aged people. \n",
    "\n",
    "Next, I would like to see the charges for a middle-aged person compared to an older person. \n",
    "I will do this by creating a function that gets the sum of older people divided by the sum of middle-aged people."
   ],
   "cell_type": "markdown",
   "metadata": {}
  },
  {
   "cell_type": "code",
   "execution_count": 57,
   "metadata": {},
   "outputs": [
    {
     "output_type": "stream",
     "name": "stdout",
     "text": [
      "According to the data, older people pay $83445.97 more in charges than middle aged people.\n"
     ]
    }
   ],
   "source": [
    "def compare_charges():\n",
    "    ages_charges=insurance_dataframe.groupby('age').charges.sum().reset_index() \n",
    "    older_people=ages_charges[ages_charges.age>50]\n",
    "    middle_aged_people=ages_charges[(ages_charges.age>35) & (ages_charges.age<50)]\n",
    "    \n",
    "    old_avg=sum(list(older_people.charges))\n",
    "    older_people_avg=old_avg/len(older_people)\n",
    "    middle_avg=sum(list(middle_aged_people.charges))\n",
    "    middle_people_avg=middle_avg/len(middle_aged_people)\n",
    "    \n",
    "    greater=middle_people_avg>older_people_avg\n",
    "    if greater==True:\n",
    "        return f'According to the data, middle aged people pay ${round(middle_people_avg-older_people_avg,2)} more in charges than older people.'\n",
    "    else:\n",
    "        return f'According to the data, older people pay ${round(older_people_avg-middle_people_avg,2)} more in charges than middle aged people.' \n",
    "\n",
    "print(compare_charges())"
   ]
  },
  {
   "source": [
    "By this analysis we can assume that the older you are, the more you pay in charges.\n",
    "To cement this inference, let us compare the average of how much young people pay to older people and middle aged people charges."
   ],
   "cell_type": "markdown",
   "metadata": {}
  },
  {
   "cell_type": "code",
   "execution_count": 60,
   "metadata": {},
   "outputs": [
    {
     "output_type": "stream",
     "name": "stdout",
     "text": [
      "The average in charges younger people pay is: 312391.23.\nThe average in charges middle aged people pay is: 376429.42.\nThe average in charges older people pay is: 459875.39\n"
     ]
    }
   ],
   "source": [
    "def compare_charges_2():\n",
    "    ages_charges=insurance_dataframe.groupby('age').charges.sum().reset_index() \n",
    "    older_people=ages_charges[ages_charges.age>50]\n",
    "    middle_aged_people=ages_charges[(ages_charges.age>35) & (ages_charges.age<50)]\n",
    "    younger_people=ages_charges[ages_charges.age<35]\n",
    "    \n",
    "    old_avg=sum(list(older_people.charges))\n",
    "    older_people_avg=old_avg/len(older_people)\n",
    "\n",
    "    middle_avg=sum(list(middle_aged_people.charges))\n",
    "    middle_people_avg=middle_avg/len(middle_aged_people)\n",
    "\n",
    "    young_avg=sum(list(younger_people.charges))\n",
    "    younger_people_avg=young_avg/len(younger_people)\n",
    "\n",
    "    print(f'The average in charges younger people pay is: {round(younger_people_avg,2)}.\\nThe average in charges middle aged people pay is: {round(middle_people_avg,2)}.\\nThe average in charges older people pay is: {round(older_people_avg,2)}')\n",
    "\n",
    "compare_charges_2()"
   ]
  },
  {
   "source": [
    "Looking at this data, we were correct in our inference.\n",
    "\n",
    "Next, we would like to find out how the region affects charges. We will do this by creating a function that gives us the average charge amount per region."
   ],
   "cell_type": "markdown",
   "metadata": {}
  },
  {
   "cell_type": "code",
   "execution_count": 130,
   "metadata": {},
   "outputs": [
    {
     "output_type": "stream",
     "name": "stdout",
     "text": [
      "This is the total amount in charges per region:\n       region       charges\n0  northeast  4.343669e+06\n1  northwest  4.035712e+06\n2  southeast  5.363690e+06\n3  southwest  4.012755e+06\nThis is the average amount in charges per region:\n       region       charges\n0  northeast  13406.384516\n1  northwest  12417.575374\n2  southeast  14735.411438\n3  southwest  12346.937377\nThis is the average amount in charges per region, organized by sex: \n sex     region        female          male   difference\n0    northeast  12953.203151  13854.005374    900.8 (M)\n1    northwest  12479.870397  12354.119575   125.75 (F)\n2    southeast  13499.669243  15879.617173  2379.95 (M)\n3    southwest  11274.411264  13412.883576  2138.47 (M)\n"
     ]
    }
   ],
   "source": [
    "def region_affect_charge():\n",
    "    charge_sum_per_region=insurance_dataframe.groupby('region').charges.sum().reset_index()\n",
    "    print('This is the total amount in charges per region:\\n',charge_sum_per_region)\n",
    "    charge_avg_per_region=insurance_dataframe.groupby('region').charges.mean().reset_index()\n",
    "    print('This is the average amount in charges per region:\\n',charge_avg_per_region)\n",
    "    charge_sex_per_region=insurance_dataframe.groupby(['region','sex']).charges.mean().reset_index().pivot(\n",
    "        columns='sex',\n",
    "        index='region',\n",
    "        values='charges'\n",
    "    ).reset_index()\n",
    "\n",
    "    def calculate_diff(x):\n",
    "        if x['female']>x['male']:\n",
    "            diff=round(x['female']-x['male'],2)\n",
    "            return f'{diff} (F)'\n",
    "        else:\n",
    "            diff=round(x['male']-x['female'],2)\n",
    "            return f'{diff} (M)'\n",
    "    charge_sex_per_region['difference']=charge_sex_per_region.apply(lambda x:\n",
    "        calculate_diff(x),\n",
    "        axis=1\n",
    "    )\n",
    "\n",
    "    print('This is the average amount in charges per region, organized by sex: \\n',charge_sex_per_region)\n",
    "region_affect_charge()"
   ]
  },
  {
   "source": [
    "From our results, we can see that people located in the southeast region get charged more than the other regions. Specifically, males in the southeast region, who get charged about $2379.95 more than females.\n",
    "\n",
    "Alternatively, the southwest get charged less than the other regions. Specifically, females in the region, who get charged about $2138.47 less than males.\n",
    "\n",
    "The final test, is seeing if there is a correlation between being a smoker and higher charges."
   ],
   "cell_type": "markdown",
   "metadata": {}
  },
  {
   "cell_type": "code",
   "execution_count": null,
   "metadata": {},
   "outputs": [],
   "source": []
  },
  {
   "cell_type": "code",
   "execution_count": 159,
   "metadata": {},
   "outputs": [
    {
     "output_type": "stream",
     "name": "stdout",
     "text": [
      "This is the average charge:\n   smoker       charges\n0     no   8434.268298\n1    yes  32050.231832\nThis is the average charge based on sex:\n sex smoker        female          male\n0       no   8762.297300   8087.204731\n1      yes  30678.996276  33042.005975\n"
     ]
    }
   ],
   "source": [
    "def smoker_affect_charges():\n",
    "    smoker_charges_avg=insurance_dataframe.groupby('smoker').charges.mean().reset_index()\n",
    "    print('This is the average charge:\\n',smoker_charges_avg)\n",
    "    smoker_charges_avg_sex=insurance_dataframe.groupby(['smoker','sex']).charges.mean().reset_index().pivot(\n",
    "        columns='sex',\n",
    "        index='smoker',\n",
    "        values='charges'\n",
    "    ).reset_index()\n",
    "    print('This is the average charge based on sex:\\n',smoker_charges_avg_sex)\n",
    "\n",
    "smoker_affect_charges()"
   ]
  },
  {
   "source": [
    "We can see here that you can expect higher charges if you are a smoker, as smokers pay about $23616 more. Specifically, male smokers, who pay about 2363.01 dollars more than female smokers. \n"
   ],
   "cell_type": "markdown",
   "metadata": {}
  },
  {
   "source": [
    "Thank you for looking through this project! If you have any feedback concerning my results or queries please tell me!"
   ],
   "cell_type": "markdown",
   "metadata": {}
  }
 ],
 "metadata": {
  "kernelspec": {
   "display_name": "Python 3",
   "language": "python",
   "name": "python3"
  },
  "language_info": {
   "codemirror_mode": {
    "name": "ipython",
    "version": 3
   },
   "file_extension": ".py",
   "mimetype": "text/x-python",
   "name": "python",
   "nbconvert_exporter": "python",
   "pygments_lexer": "ipython3",
   "version": "3.8.6-final"
  }
 },
 "nbformat": 4,
 "nbformat_minor": 4
}